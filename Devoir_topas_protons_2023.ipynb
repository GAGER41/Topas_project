{
 "cells": [
  {
   "cell_type": "markdown",
   "metadata": {},
   "source": [
    "# Topas Work - Team protons and heavy ions\n",
    "### PHY-7051 Physique des radiations en radiothérapie et en radiologie\n",
    "Gabrielle Germain (111 266 117), Hanieh Sadat Jozi (111 XXX XXX), Philippe Dionne (111 XXX XXX)"
   ]
  },
  {
   "cell_type": "code",
   "execution_count": null,
   "metadata": {},
   "outputs": [],
   "source": [
    "import numpy as np\n",
    "import matplotlib.pyplot as plt"
   ]
  },
  {
   "cell_type": "markdown",
   "metadata": {},
   "source": [
    "Useful functions"
   ]
  },
  {
   "cell_type": "code",
   "execution_count": null,
   "metadata": {},
   "outputs": [],
   "source": [
    "def csv_to_data(path:str, skiprows:int=9, delimiter:str=', ') -> tuple:\n",
    "    \"\"\" Reads the csv file and converts it to a tuple containing 3 columns matrices\n",
    "\n",
    "    Args:\n",
    "        path (str): absolute path on the computer. Must have the format r\"C:\\path.csv\"\n",
    "        skiprows (int, optional): Rows to skip the header. Defaults to 9.\n",
    "        delimiter (str, optional): Defaults to ', '.\n",
    "\n",
    "    Returns:\n",
    "        tuple: (bin, dose, standard-deviation)\n",
    "    \"\"\"\n",
    "\n",
    "    data = np.loadtxt(path, skiprows=skiprows, delimiter=delimiter, usecols=(2, 3, 4))\n",
    "    bin = data[:, 0]\n",
    "    dose = data[:, 1]\n",
    "    std = data[:, 2]\n",
    "    return (bin, dose, std)"
   ]
  },
  {
   "cell_type": "markdown",
   "metadata": {},
   "source": [
    "Constants"
   ]
  },
  {
   "cell_type": "code",
   "execution_count": null,
   "metadata": {},
   "outputs": [],
   "source": []
  },
  {
   "cell_type": "markdown",
   "metadata": {},
   "source": [
    "## Central-axis depth-dose distribution in water of a monoenergetic beam of protons or carbon ions"
   ]
  },
  {
   "cell_type": "code",
   "execution_count": null,
   "metadata": {},
   "outputs": [],
   "source": [
    "\"\"\" Le code ci-bas génère la figure 6.12 du manuel de référence, soit [...] dans un fantôme d'eau.\"\"\"\n",
    "\n",
    "# ------------------------------- Paramètres ------------------------------------------- #\n",
    "\"\"\" Initialisation des paramètres utilisés dans les codes de simulation TOPAS. \"\"\"\n",
    "\n",
    "field_size = 100 # cm2\n",
    "energies_p = np.array([122, 183, 230])      # MeV\n",
    "energies_c = np.array([220, 350, 430])      # MeV/u, u = 12\n",
    "nbr_p = np.array([1000000, 1000000, 1000000]) # nbr de protons simulés pour chaque énergie\n",
    "nbr_c = np.array([100000, 100000, 100000]) # nbr d'ions de carbone simulés pour chaque énergie\n",
    "bin_nbr = np.array([350, 350]) # nbr de bins pour chaque particule\n",
    "tot_depths = np.array([35, 35]) # profondeur des scorers pour chaque particule, en cm\n",
    "in_fluence_p = nbr_p/field_size # cm-2\n",
    "in_fluence_c = nbr_c/field_size # cm-2\n",
    "\n",
    "np.seterr(divide='ignore', invalid='ignore')\n",
    "\n",
    "# initialisation des données\n",
    "std_rel_p = np.empty(np.size(energies_p))\n",
    "R50_p = np.empty(np.size(energies_p))\n",
    "Dmax_p = np.empty(np.size(energies_p))\n",
    "\n",
    "std_rel_c = np.empty(np.size(energies_c))\n",
    "R50_c = np.empty(np.size(energies_c))\n",
    "Dmax_c = np.empty(np.size(energies_c))\n",
    "\n",
    "# initialisation des figures\n",
    "fig1 = plt.figure(figsize=(10, 15))\n",
    "ax1 = plt.subplot(2, 1, 1)\n",
    "plt.xlabel(\"Profondeur dans l'eau, [cm]\", fontsize='18')\n",
    "plt.ylabel(\"Énergie déposée [MeV cm$^2$/g]\", fontsize='18')\n",
    "plt.title(\"a)\",  fontsize='20')\n",
    "plt.tick_params(direction='in',labelsize='14')\n",
    "ax2 = plt.subplot(2, 1, 2)\n",
    "plt.xlabel(\"Profondeur dans l'eau [cm]\", fontsize='18')\n",
    "plt.ylabel(\"Énergie déposée [MeV cm$^2$/g]\", fontsize='18')\n",
    "plt.title(\"b)\",  fontsize='20')\n",
    "plt.tick_params(direction='in',labelsize='14')\n",
    "\n",
    "# marker = ['-','--','-.',':','k-','k--','k-.','k:']\n",
    "\n",
    "# ------------------------------- Fonctions de calcul ------------------------------------------- #\n",
    "## Protons en premier\n",
    "for i in range (len(energies_p)):\n",
    "    energy = energies_p[i]\n",
    "    path = r\"Topas_project\\Figure6_12\\6_12_protons_{}MeV_broad.csv\".format(energy)\n",
    "    bins, dose, std = csv_to_data(path)\n",
    "\n"
   ]
  },
  {
   "cell_type": "markdown",
   "metadata": {},
   "source": [
    "## Depth of the Bragg Peak for a carbon ions beam"
   ]
  },
  {
   "cell_type": "markdown",
   "metadata": {},
   "source": [
    "## Beam quality of a pristine and modulated beam of proton"
   ]
  }
 ],
 "metadata": {
  "kernelspec": {
   "display_name": "Python 3",
   "language": "python",
   "name": "python3"
  },
  "language_info": {
   "codemirror_mode": {
    "name": "ipython",
    "version": 3
   },
   "file_extension": ".py",
   "mimetype": "text/x-python",
   "name": "python",
   "nbconvert_exporter": "python",
   "pygments_lexer": "ipython3",
   "version": "3.9.2"
  }
 },
 "nbformat": 4,
 "nbformat_minor": 2
}
